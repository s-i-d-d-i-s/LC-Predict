{
 "cells": [
  {
   "cell_type": "markdown",
   "id": "lesser-librarian",
   "metadata": {},
   "source": [
    "# Imports\n"
   ]
  },
  {
   "cell_type": "code",
   "execution_count": 1,
   "id": "entitled-words",
   "metadata": {},
   "outputs": [],
   "source": [
    "import requests\n",
    "import time\n",
    "import json\n",
    "import math\n",
    "import os\n",
    "import threading"
   ]
  },
  {
   "cell_type": "markdown",
   "id": "substantial-difficulty",
   "metadata": {},
   "source": [
    "# Specify Contest"
   ]
  },
  {
   "cell_type": "code",
   "execution_count": 2,
   "id": "dedicated-seminar",
   "metadata": {},
   "outputs": [],
   "source": [
    "CONTEST = 'weekly-contest-242'\n",
    "CONTEST_NAME = 'Weekly Contest 244'\n",
    "PAGE_LIMIT = None\n",
    "os.makedirs(f'{CONTEST_NAME}',exist_ok=True)\n",
    "os.makedirs(f'{CONTEST_NAME}/Cache/',exist_ok=True)"
   ]
  },
  {
   "cell_type": "markdown",
   "id": "3816ab1f",
   "metadata": {},
   "source": [
    "# Headers for fetching data"
   ]
  },
  {
   "cell_type": "code",
   "execution_count": 3,
   "id": "flying-interval",
   "metadata": {},
   "outputs": [],
   "source": [
    "headers = {\n",
    "    'authority': 'leetcode.com',\n",
    "    'accept': 'application/json, text/javascript, */*; q=0.01',\n",
    "    'x-newrelic-id': 'UAQDVFVRGwEAXVlbBAg=',\n",
    "    'x-requested-with': 'XMLHttpRequest',\n",
    "    'user-agent': 'Mozilla/5.0 (Windows NT 6.1; Win64; x64) AppleWebKit/537.36 (KHTML, like Gecko) Chrome/90.0.4430.85 Safari/537.36',\n",
    "    'content-type': 'application/json',\n",
    "    'sec-gpc': '1',\n",
    "    'sec-fetch-site': 'same-origin',\n",
    "    'sec-fetch-mode': 'cors',\n",
    "    'sec-fetch-dest': 'empty',\n",
    "    'accept-language': 'en-US,en;q=0.9',\n",
    "    'cookie': 'csrftoken=SYt4auAHmprCYhMeGDZwbnE0hWoSLKRLHb0A7mMpbvoAEPvjYcIdL5LtaWhQJv6B; __cfduid=dc8614cf2c524abada1e54cfa8e118d271619065816; __cf_bm=08dec7596eec629845d4f3f39086483d491e2c40-1619324757-1800-AYKgjE4h5oPn/k7bslI317JZOCKGqrKvRQEJSKFM8EyY57yFeDgrM0KTqzs/c5RUfzN8A7VceydacsvxJjrmrp4=',\n",
    "}"
   ]
  },
  {
   "cell_type": "code",
   "execution_count": 6,
   "id": "a61fd4b9",
   "metadata": {},
   "outputs": [
    {
     "name": "stdout",
     "output_type": "stream",
     "text": [
      "496\n"
     ]
    }
   ],
   "source": [
    "PAGE_LIMIT = getPageNo(CONTEST)\n",
    "fromCN = set()\n",
    "print(PAGE_LIMIT)"
   ]
  },
  {
   "cell_type": "markdown",
   "id": "520e5501",
   "metadata": {},
   "source": [
    "# Helper Functions to get Ranklist"
   ]
  },
  {
   "cell_type": "code",
   "execution_count": 5,
   "id": "intense-mambo",
   "metadata": {},
   "outputs": [],
   "source": [
    "def getPageNo(contest_slug):\n",
    "    params = (\n",
    "        ('pagination', '1'),\n",
    "        ('region', 'global'),\n",
    "    )\n",
    "    data = json.loads(requests.get('https://leetcode.com/contest/api/ranking/{}/'.format(contest_slug), headers=headers, params=params).content)\n",
    "    return int(math.ceil(data['user_num']/25))"
   ]
  },
  {
   "cell_type": "code",
   "execution_count": 7,
   "id": "criminal-windsor",
   "metadata": {},
   "outputs": [],
   "source": [
    "def getPage(page,data2,visit):\n",
    "    if page > PAGE_LIMIT:\n",
    "        return\n",
    "    if page in visit:\n",
    "        return\n",
    "    params = (\n",
    "        ('pagination', str(page)),\n",
    "        ('region', 'global'),\n",
    "    )\n",
    "    try:\n",
    "        data = json.loads(requests.get('https://leetcode.com/contest/api/ranking/{}/'.format(CONTEST), headers=headers, params=params).content)\n",
    "    except:\n",
    "        print(\"error at page\",page)\n",
    "        return \n",
    "    res = []\n",
    "    for x in data['total_rank']:\n",
    "        if int(x['score']) ==0:\n",
    "            continue\n",
    "        if x['data_region'] == 'CN':\n",
    "            fromCN.add(x['username'])\n",
    "        res.append([x['rank'],x['username']])\n",
    "    data2.extend(res)\n",
    "    visit.add(page)\n",
    "    return"
   ]
  },
  {
   "cell_type": "code",
   "execution_count": 8,
   "id": "intimate-hospital",
   "metadata": {},
   "outputs": [],
   "source": [
    "def getRanklist(contest):\n",
    "    res = []\n",
    "    if os.path.isfile(f'{contest}_all.json'):\n",
    "        res = json.loads(open(f'{contest}_all.json').read())\n",
    "        print(\"Found Old Ranklist... Using That\")\n",
    "        return res\n",
    "    print(\"Ranklist not found... Trying to fetch new\")\n",
    "    visit=set()\n",
    "    for i in range(1,1000,50):\n",
    "        THREADS = []\n",
    "        for j in range(i,i+50):\n",
    "            THREADS.append(threading.Thread(target=getPage, args=(j,res,visit,)))\n",
    "        for j in range(len(THREADS)):\n",
    "            THREADS[j].start()\n",
    "        for j in range(len(THREADS)):\n",
    "            THREADS[j].join()\n",
    "        print(f'{i}')\n",
    "    res = sorted(res, key=lambda x: x[0])\n",
    "    with open(f'{contest}_all.json','w') as f:\n",
    "        f.write(json.dumps(res))\n",
    "    return res"
   ]
  },
  {
   "cell_type": "code",
   "execution_count": 9,
   "id": "alternate-spray",
   "metadata": {
    "scrolled": true
   },
   "outputs": [
    {
     "name": "stdout",
     "output_type": "stream",
     "text": [
      "Ranklist not found... Trying to fetch new\n",
      "1\n",
      "51\n",
      "101\n",
      "151\n",
      "201\n",
      "251\n",
      "301\n",
      "351\n",
      "401\n",
      "451\n",
      "501\n",
      "551\n",
      "601\n",
      "651\n",
      "701\n",
      "751\n",
      "801\n",
      "851\n",
      "901\n",
      "951\n"
     ]
    }
   ],
   "source": [
    "ranklist = getRanklist(CONTEST)"
   ]
  },
  {
   "cell_type": "markdown",
   "id": "6ce49c29",
   "metadata": {},
   "source": [
    "# Helper Functions to get User Data"
   ]
  },
  {
   "cell_type": "code",
   "execution_count": 10,
   "id": "earned-control",
   "metadata": {},
   "outputs": [],
   "source": [
    "def getUserData_US(username,get_current=False):\n",
    "    data = '{\"operationName\":\"getContestRankingData\",\"variables\":{\"username\":\\\"'+username+'\\\"},\"query\":\"query getContestRankingData($username: String!) {\\\\n  userContestRanking(username: $username) {\\\\n    attendedContestsCount\\\\n    rating\\\\n    globalRanking\\\\n    __typename\\\\n  }\\\\n  userContestRankingHistory(username: $username) {\\\\n    contest {\\\\n      title\\\\n      startTime\\\\n      __typename\\\\n    }\\\\n    rating\\\\n    ranking\\\\n    __typename\\\\n  }\\\\n}\\\\n\"}'\n",
    "    response = requests.post('https://leetcode.com/graphql', headers=headers, data=data).content\n",
    "    data = json.loads(response)\n",
    "    allContests = data['data']['userContestRankingHistory']\n",
    "    user_k=0\n",
    "    user_rating=None\n",
    "    for x in allContests:\n",
    "        name = x['contest']['title']\n",
    "        ranking = x['ranking']\n",
    "        rating = x['rating']\n",
    "        if get_current==False and name == CONTEST_NAME:\n",
    "            break\n",
    "        user_rating = rating\n",
    "        if ranking!=0:\n",
    "            user_k+=1\n",
    "    return (user_rating,user_k)"
   ]
  },
  {
   "cell_type": "code",
   "execution_count": 11,
   "id": "noble-vertex",
   "metadata": {},
   "outputs": [],
   "source": [
    "def getUserData_CN(username,get_current=False):\n",
    "    data = '{\"operationName\":\"userContest\",\"variables\":{\"userSlug\":\\\"'+username+'\\\"},\"query\":\"query userContest($userSlug: String!) {\\\\n  userContestRanking(userSlug: $userSlug) {\\\\n    currentRatingRanking\\\\n    ratingHistory\\\\n    levelHistory\\\\n    contestRankingHistoryV2\\\\n contestHistory\\\\n    __typename\\\\n  }\\\\n  globalRatingRanking(userSlug: $userSlug)\\\\n  userContestScore(userSlug: $userSlug)\\\\n  contestUnratedContests\\\\n}\\\\n\"}'\n",
    "    response = requests.post('https://leetcode-cn.com/graphql', headers=headers, data=data).content\n",
    "    data = json.loads(response)\n",
    "    allContests = [x['title_slug'] for x in json.loads(data['data']['userContestRanking']['contestHistory'])]\n",
    "    allRating = json.loads(data['data']['userContestRanking']['ratingHistory'])\n",
    "    user_k=0\n",
    "    user_rating=None\n",
    "    for i in range(len(allContests)):\n",
    "        name = allContests[i]\n",
    "        rating = allRating[i]\n",
    "        if get_current==False and  name == CONTEST:\n",
    "            break\n",
    "        user_rating = rating\n",
    "        if rating!=None:\n",
    "            user_k+=1\n",
    "    return (user_rating,user_k)"
   ]
  },
  {
   "cell_type": "code",
   "execution_count": 12,
   "id": "trained-auckland",
   "metadata": {},
   "outputs": [],
   "source": [
    "def getUserData(username):\n",
    "    if os.path.isfile(f'{CONTEST_NAME}/Cache/{username}.json') == True:\n",
    "        cur = json.loads(open(f'{CONTEST_NAME}/Cache/{username}.json').read())\n",
    "        return cur\n",
    "    if username in fromCN:\n",
    "        try:\n",
    "            cur  = getUserData_CN(username)\n",
    "            with open(f'{CONTEST_NAME}/Cache/{username}.json','w') as f:\n",
    "                f.write(json.dumps(cur))\n",
    "        except:\n",
    "            pass\n",
    "        return\n",
    "    try:\n",
    "        cur  = getUserData_US(username)\n",
    "        with open(f'{CONTEST_NAME}/Cache/{username}.json','w') as f:\n",
    "            f.write(json.dumps(cur))\n",
    "    except:\n",
    "        try:\n",
    "            cur  = getUserData_CN(username)\n",
    "            with open(f'{CONTEST_NAME}/Cache/{username}.json','w') as f:\n",
    "                f.write(json.dumps(cur))\n",
    "        except:\n",
    "            pass"
   ]
  },
  {
   "cell_type": "code",
   "execution_count": 13,
   "id": "occupational-contact",
   "metadata": {},
   "outputs": [],
   "source": [
    "def fetchAllUserData(ranklist):\n",
    "    lssize = len(ranklist)\n",
    "    userData = {}\n",
    "    for i in range(0,lssize,20):\n",
    "        THREADS = []\n",
    "        for j in range(i,i+20):\n",
    "            if j>=lssize:\n",
    "                break\n",
    "            THREADS.append(threading.Thread(target=getUserData, args=(ranklist[j][1],)))\n",
    "        for j in range(len(THREADS)):\n",
    "            THREADS[j].start()\n",
    "        for j in range(len(THREADS)):\n",
    "            THREADS[j].join()\n",
    "        print(f\"Done : {i}/{lssize}\")\n",
    "    for i in range(0,lssize):\n",
    "        username = ranklist[i][1]\n",
    "        if os.path.isfile(f'{CONTEST_NAME}/Cache/{username}.json') == True:\n",
    "            cur = json.loads(open(f'{CONTEST_NAME}/Cache/{username}.json').read())\n",
    "            userData[username]=cur\n",
    "    return userData"
   ]
  },
  {
   "cell_type": "code",
   "execution_count": null,
   "id": "rolled-demonstration",
   "metadata": {
    "scrolled": true
   },
   "outputs": [
    {
     "name": "stdout",
     "output_type": "stream",
     "text": [
      "Done : 0/8632\n"
     ]
    }
   ],
   "source": [
    "userData = fetchAllUserData(ranklist)"
   ]
  },
  {
   "cell_type": "markdown",
   "id": "0f3790f8",
   "metadata": {},
   "source": [
    "# Helper Functions to do rating calculation"
   ]
  },
  {
   "cell_type": "code",
   "execution_count": 21,
   "id": "15ef66d2",
   "metadata": {},
   "outputs": [],
   "source": [
    "def getRatingChange(username):\n",
    "    def E(a,b):\n",
    "        return 1/(1+math.pow(10,(b-a)/400))\n",
    "    \n",
    "    def getActualRank(username):\n",
    "        for i in range(len(ranklist)):\n",
    "            if ranklist[i][1]==username:\n",
    "                return i+1\n",
    "        return None\n",
    "\n",
    "    def getERank(username):\n",
    "        ans = 1\n",
    "        for i in range(len(ranklist)):\n",
    "            if ranklist[i][1]!=username:\n",
    "                try:\n",
    "                    ans+= ( (E(userData[ranklist[i][1]][0],userData[username][0])) )\n",
    "                except:\n",
    "                    pass\n",
    "        return ans\n",
    "    \n",
    "    def getMi(Erank,Rank):\n",
    "        return math.sqrt(Rank*Erank)\n",
    "    \n",
    "    def checkBS(Erating):\n",
    "        ans = 1\n",
    "        for i in range(len(ranklist)):\n",
    "            try:\n",
    "                ans+= ( (E(userData[ranklist[i][1]][0],Erating)) )\n",
    "            except:\n",
    "                pass\n",
    "        return ans\n",
    "    \n",
    "    def getErating(rating,m):\n",
    "        l=1\n",
    "        r=100000\n",
    "        while r-l > 0.1:\n",
    "            mid = (l+r)/2\n",
    "            cur = checkBS(mid)\n",
    "            if cur>m:\n",
    "                l=mid\n",
    "            else:\n",
    "                r=mid\n",
    "        return l\n",
    "    \n",
    "    def f(k):\n",
    "        if k==1:\n",
    "            return 0.5\n",
    "        return 2/9\n",
    "    \n",
    "    def getDelta(Erating,rating,k):\n",
    "        try:\n",
    "            return f(k)*(Erating-rating)\n",
    "        except:\n",
    "            return None\n",
    "    try:\n",
    "        ERank = getERank(username)\n",
    "        ar = getActualRank(username)\n",
    "        mi = getMi(ERank,ar)\n",
    "        ERating = getErating(userData[username][0],mi)\n",
    "        delta = getDelta(ERating,userData[username][0],userData[username][1])\n",
    "        if delta==None:\n",
    "            return [None,None]\n",
    "        newrating = userData[username][0] + delta\n",
    "        ratingChanges.append({'rank':ar,'username':username,'newrating':newrating,'delta':delta})\n",
    "    except:\n",
    "        pass\n",
    "    return"
   ]
  },
  {
   "cell_type": "code",
   "execution_count": 16,
   "id": "15928b9b",
   "metadata": {
    "scrolled": true
   },
   "outputs": [],
   "source": [
    "ratingChanges = []\n",
    "def getRatingChanges():\n",
    "    if os.path.isfile(f'{CONTEST}_rating_changes.json'):\n",
    "        return json.loads(open(f'{CONTEST}_rating_changes.json').read())\n",
    "    ranklist_size = len(ranklist)\n",
    "    for i in range(0,ranklist_size,50):\n",
    "        THREADS = []\n",
    "        for j in range(i,i+50):\n",
    "            if j>=ranklist_size:\n",
    "                break\n",
    "            THREADS.append(threading.Thread(target=getRatingChange, args=(ranklist[j][1],)))        \n",
    "        for j in range(len(THREADS)):\n",
    "            THREADS[j].start()\n",
    "        for j in range(len(THREADS)):\n",
    "            THREADS[j].join()\n",
    "        print(f\"{i+50}/{ranklist_size}\")\n",
    "    \n",
    "    return ratingChanges"
   ]
  },
  {
   "cell_type": "code",
   "execution_count": null,
   "id": "8aa0bbca",
   "metadata": {},
   "outputs": [],
   "source": [
    "getRatingChanges()"
   ]
  },
  {
   "cell_type": "markdown",
   "id": "ba66a86e",
   "metadata": {},
   "source": [
    "# Save Rating Changes"
   ]
  },
  {
   "cell_type": "code",
   "execution_count": 17,
   "id": "e3c3c8ff",
   "metadata": {},
   "outputs": [],
   "source": [
    "ratingChanges = sorted(ratingChanges, key=lambda x: x['rank'])\n",
    "with open(f'{CONTEST}_rating_changes.json','w') as f:\n",
    "    f.write(json.dumps(ratingChanges))"
   ]
  }
 ],
 "metadata": {
  "kernelspec": {
   "display_name": "Python 3",
   "language": "python",
   "name": "python3"
  },
  "language_info": {
   "codemirror_mode": {
    "name": "ipython",
    "version": 3
   },
   "file_extension": ".py",
   "mimetype": "text/x-python",
   "name": "python",
   "nbconvert_exporter": "python",
   "pygments_lexer": "ipython3",
   "version": "3.8.8"
  }
 },
 "nbformat": 4,
 "nbformat_minor": 5
}
